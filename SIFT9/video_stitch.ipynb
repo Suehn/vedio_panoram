{
 "cells": [
  {
   "cell_type": "code",
   "execution_count": 2,
   "metadata": {},
   "outputs": [
    {
     "name": "stdout",
     "output_type": "stream",
     "text": [
      "[[ 9.56951984e-01  4.78738025e-02  3.87001688e+02]\n",
      " [-3.25416844e-02  9.08479816e-01  4.57048499e+01]\n",
      " [ 2.28728357e-05  3.81013158e-05  1.01164037e+00]]\n",
      "\n",
      "[[ 1.10172241e+00  8.15026402e-02  3.33409936e+02]\n",
      " [-5.91453241e-02  1.02375955e+00 -2.58047957e+00]\n",
      " [-1.66935489e-04  8.02515807e-06  9.49784534e-01]]\n"
     ]
    }
   ],
   "source": [
    "import cv2 as cv\n",
    "from utils.functions import *\n",
    "import numpy as np\n",
    "# 示例用法\n",
    "video1_path = '../data/testolabc1.avi'\n",
    "video2_path = '../data/testolabc2.avi'\n",
    "video3_path = '../data/testolabc3.avi'\n",
    "video4_path = '../data/testolabc4.avi'\n",
    "frame_number = 800  # 提取第800帧\n",
    "\n",
    "# frame1, frame2 = read_frames_from_videos(video1_path, video2_path, frame_number)\n",
    "# # 示例用法\n",
    "# frame1, frame2 = undistort_and_rotate(frame1), undistort_and_rotate(frame2)\n",
    "# frame1, frame2 = resize_to_equal_width(frame1, frame2)\n",
    "# kp1, des1 = detect_and_compute_features(frame1, x_range=[0.3, 1.0])\n",
    "# kp2, des2 = detect_and_compute_features(frame2, x_range=[0.0, 0.7])\n",
    "\n",
    "# good_matches = match_features(des1, des2)\n",
    "# H = compute_homography(kp1, kp2, good_matches)\n",
    "\n",
    "# print(H)\n",
    "def compute_H1(frame1, frame2, x1_range=[0.4, 1.0], x2_range=[0.0, 0.7]):\n",
    "    frame1, frame2 = undistort_and_rotate(frame1,dist_coeffs=np.array([-0.0733, 0.0833,0,0], dtype=np.float32), angle=-2.125), undistort_and_rotate(frame2, dist_coeffs=np.array([-0.0733, 0.0833,0,0], dtype=np.float32))\n",
    "    frame1, frame2 = resize_to_equal_width(frame1, frame2)\n",
    "    kp1, des1 = detect_and_compute_features(frame1, x_range=x1_range)\n",
    "    kp2, des2 = detect_and_compute_features(frame2, x_range=x2_range)\n",
    "\n",
    "    good_matches = match_features(des1, des2)\n",
    "    H = compute_homography(kp1, kp2, good_matches)\n",
    "    return H\n",
    "\n",
    "def compute_H(frame1, frame2, x1_range=[0.4, 1.0], x2_range=[0.0, 0.7]):\n",
    "    frame1, frame2 = undistort_and_rotate(frame1,dist_coeffs=np.array([-0.0733, 0.0833,0,0], dtype=np.float32), angle=-2.125), undistort_and_rotate(frame2, dist_coeffs=np.array([-0.0733, 0.0833,0,0], dtype=np.float32))\n",
    "    frame1, frame2 = resize_to_equal_width(frame1, frame2)\n",
    "    kp1, des1 = detect_and_compute_features(frame1, x_range=x1_range)\n",
    "    kp2, des2 = detect_and_compute_features(frame2, x_range=x2_range)\n",
    "\n",
    "    good_matches = match_features(des1, des2)\n",
    "    H = compute_homography(kp1, kp2, good_matches)\n",
    "    return H\n",
    "    \n",
    "frame1, frame2 = read_frames_from_videos(video1_path, video2_path, frame_number)\n",
    "frame3, frame4 = read_frames_from_videos(video3_path, video4_path, frame_number)\n",
    "\n",
    "H1 = compute_H(frame1, frame2)\n",
    "H2 = compute_H(frame3, frame4)\n",
    "print(H1, H2, sep='\\n\\n')"
   ]
  },
  {
   "cell_type": "code",
   "execution_count": 3,
   "metadata": {},
   "outputs": [
    {
     "name": "stdout",
     "output_type": "stream",
     "text": [
      "[[ 7.47198847e-01 -1.62701391e-02  7.21653185e+02]\n",
      " [-5.47211163e-02  7.58481028e-01  3.38771528e+01]\n",
      " [-1.05993193e-04 -2.10610790e-05  8.94954256e-01]]\n"
     ]
    },
    {
     "data": {
      "text/plain": [
       "True"
      ]
     },
     "execution_count": 3,
     "metadata": {},
     "output_type": "execute_result"
    }
   ],
   "source": [
    "sti1, sti2 = stitch_images_with_blending(frame1, frame2, H1), stitch_images_with_blending(frame3, frame4, H2)\n",
    "cv.imwrite(\"stitch1.jpg\", sti1)\n",
    "cv.imwrite(\"stitch2.jpg\", sti2)\n",
    "\n",
    "H3 = compute_H(sti1, sti2, x1_range=[0.3, 1.0], x2_range=[0.0, 0.4])\n",
    "result = stitch_images_with_blending(sti1, sti2, H3)\n",
    "result = crop_black_right(result)\n",
    "print(H3)\n",
    "cv.imwrite(\"result.jpg\", result)"
   ]
  },
  {
   "cell_type": "code",
   "execution_count": null,
   "metadata": {},
   "outputs": [],
   "source": []
  },
  {
   "cell_type": "code",
   "execution_count": null,
   "metadata": {},
   "outputs": [],
   "source": []
  },
  {
   "cell_type": "code",
   "execution_count": null,
   "metadata": {},
   "outputs": [],
   "source": []
  },
  {
   "cell_type": "code",
   "execution_count": 4,
   "metadata": {},
   "outputs": [],
   "source": [
    "video1_path = '../data/testolabc1.avi'\n",
    "video2_path = '../data/testolabc2.avi'\n",
    "video3_path = '../data/testolabc3.avi'\n",
    "video4_path = '../data/testolabc4.avi'\n",
    "frame_number = 800  # 提取第800帧"
   ]
  },
  {
   "cell_type": "code",
   "execution_count": 5,
   "metadata": {},
   "outputs": [],
   "source": [
    "for frame_number in range(120):\n",
    "\n",
    "    frame1, frame2 = read_frames_from_videos(video1_path, video2_path, frame_number)\n",
    "    frame3, frame4 = read_frames_from_videos(video3_path, video4_path, frame_number)\n",
    "\n",
    "\n",
    "    frame1, frame2 = undistort_and_rotate(frame1,dist_coeffs=np.array([-0.0733, 0.0833,0,0], dtype=np.float32), angle=-2.125), undistort_and_rotate(frame2, dist_coeffs=np.array([-0.0733, 0.0833,0,0], dtype=np.float32))\n",
    "    frame1, frame2 = resize_to_equal_width(frame1, frame2)\n",
    "    frame3, frame4 = undistort_and_rotate(frame3,dist_coeffs=np.array([-0.0733, 0.0833,0,0], dtype=np.float32), angle=-2.125), undistort_and_rotate(frame4, dist_coeffs=np.array([-0.0733, 0.0833,0,0], dtype=np.float32))\n",
    "    frame3, frame4 = resize_to_equal_width(frame3, frame4)\n",
    "\n",
    "    sti1, sti2 = stitch_images_with_blending(frame1, frame2, H1), stitch_images_with_blending(frame3, frame4, H2)\n",
    "    result = stitch_images_with_blending(sti1, sti2, H3)\n",
    "    result = crop_black_right(result)\n",
    "\n",
    "    cv.imwrite(f'output/result{frame_number}.jpg', result)"
   ]
  },
  {
   "cell_type": "code",
   "execution_count": 12,
   "metadata": {},
   "outputs": [],
   "source": [
    "\n",
    "import cv2 as cv\n",
    "import numpy as np\n",
    "from multiprocessing import Pool\n",
    "\n",
    "# 假设所有必需的函数和变量都已定义，如 undistort_and_rotate、resize_to_equal_width、stitch_images_with_blending、crop_black_right、read_frames_from_videos\n",
    "\n",
    "def process_frame(frame_number: int):\n",
    "    video1_path = '../data/testolabc1.avi'\n",
    "    video2_path = '../data/testolabc2.avi'\n",
    "    video3_path = '../data/testolabc3.avi'\n",
    "    video4_path = '../data/testolabc4.avi'\n",
    "\n",
    "    dist_coeffs = np.array([-0.0733, 0.0833, 0, 0], dtype=np.float32)\n",
    "    angle1 = -2.125\n",
    "\n",
    "    # 读取视频帧\n",
    "    frame1, frame2 = read_frames_from_videos(video1_path, video2_path, frame_number)\n",
    "    frame3, frame4 = read_frames_from_videos(video3_path, video4_path, frame_number)\n",
    "\n",
    "    # 畸变矫正和旋转\n",
    "    frame1, frame2 = undistort_and_rotate(frame1, dist_coeffs, angle=angle1), undistort_and_rotate(frame2, dist_coeffs)\n",
    "    frame3, frame4 = undistort_and_rotate(frame3, dist_coeffs, angle=angle1), undistort_and_rotate(frame4, dist_coeffs)\n",
    "\n",
    "    # 调整大小\n",
    "    frame1, frame2 = resize_to_equal_width(frame1, frame2)\n",
    "    frame3, frame4 = resize_to_equal_width(frame3, frame4)\n",
    "\n",
    "    # 图像拼接\n",
    "    sti1, sti2 = stitch_images_with_blending(frame1, frame2, H1), stitch_images_with_blending(frame3, frame4, H2)\n",
    "    result = stitch_images_with_blending(sti1, sti2, H3)\n",
    "    result = crop_black_right(result)\n",
    "\n",
    "    # 保存结果\n",
    "    cv.imwrite(f'output/result{frame_number}.jpg', result)\n",
    "\n",
    "if __name__ == \"__main__\":\n",
    "    video1_path = '../data/testolabc1.avi'\n",
    "    video2_path = '../data/testolabc2.avi'\n",
    "    video3_path = '../data/testolabc3.avi'\n",
    "    video4_path = '../data/testolabc4.avi'\n",
    "\n",
    "\n",
    "    frame_numbers = list(range(128))\n",
    "\n",
    "    with Pool(processes=8) as pool:\n",
    "        pool.map(process_frame, frame_numbers)"
   ]
  }
 ],
 "metadata": {
  "kernelspec": {
   "display_name": "ziyiv1",
   "language": "python",
   "name": "python3"
  },
  "language_info": {
   "codemirror_mode": {
    "name": "ipython",
    "version": 3
   },
   "file_extension": ".py",
   "mimetype": "text/x-python",
   "name": "python",
   "nbconvert_exporter": "python",
   "pygments_lexer": "ipython3",
   "version": "3.8.19"
  }
 },
 "nbformat": 4,
 "nbformat_minor": 2
}

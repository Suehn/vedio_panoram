{
 "cells": [
  {
   "cell_type": "code",
   "execution_count": 9,
   "metadata": {},
   "outputs": [
    {
     "name": "stdout",
     "output_type": "stream",
     "text": [
      "[[ 1.05162881e+00 -1.29132969e-01 -3.90961853e+02]\n",
      " [ 8.77980015e-02  9.98844488e-01 -7.44219920e+01]\n",
      " [-2.07838846e-04  3.73338461e-05  1.00000000e+00]]\n"
     ]
    }
   ],
   "source": [
    "import cv2 as cv\n",
    "from utils.functions import *\n",
    "\n",
    "# 示例用法\n",
    "video1_path = '../data/testolabc1.avi'\n",
    "video2_path = '../data/testolabc2.avi'\n",
    "frame_number = 800  # 提取第800帧\n",
    "\n",
    "frame1, frame2 = read_frames_from_videos(video1_path, video2_path, frame_number)\n",
    "# 示例用法\n",
    "frame1, frame2 = undistort_and_rotate(frame1), undistort_and_rotate(frame2)\n",
    "frame1, frame2 = resize_to_equal_width(frame1, frame2)\n",
    "kp1, des1 = detect_and_compute_features(frame1, x_range=[0.3, 1.0])\n",
    "kp2, des2 = detect_and_compute_features(frame2, x_range=[0.0, 0.7])\n",
    "\n",
    "good_matches = match_features(des1, des2)\n",
    "H = compute_homography(kp1, kp2, good_matches)\n",
    "\n",
    "print(H)"
   ]
  },
  {
   "cell_type": "code",
   "execution_count": 10,
   "metadata": {},
   "outputs": [
    {
     "data": {
      "text/plain": [
       "True"
      ]
     },
     "execution_count": 10,
     "metadata": {},
     "output_type": "execute_result"
    }
   ],
   "source": [
    "\n",
    "stitched_img = stitch_images_with_blending(frame1, frame2, H)\n",
    "cv.imwrite(\"stitched_img.jpg\", stitched_img)"
   ]
  }
 ],
 "metadata": {
  "kernelspec": {
   "display_name": "ziyiv1",
   "language": "python",
   "name": "python3"
  },
  "language_info": {
   "codemirror_mode": {
    "name": "ipython",
    "version": 3
   },
   "file_extension": ".py",
   "mimetype": "text/x-python",
   "name": "python",
   "nbconvert_exporter": "python",
   "pygments_lexer": "ipython3",
   "version": "3.8.19"
  }
 },
 "nbformat": 4,
 "nbformat_minor": 2
}

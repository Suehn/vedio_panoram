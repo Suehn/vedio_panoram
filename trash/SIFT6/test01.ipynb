{
 "cells": [
  {
   "cell_type": "code",
   "execution_count": null,
   "metadata": {},
   "outputs": [],
   "source": [
    "from stitching import Stitcher\n",
    "import cv2 as cv\n",
    "\n",
    "settings = {\"detector\": \"orb\", \"range_width\":200 ,\"confidence_threshold\": 0.01, \"print_time\": True, \"crop\": False}\n",
    "stitcher = Stitcher(**settings)\n",
    "\n",
    "settings1 = {\"detector\": \"sift\", \"range_width\":900 ,\"confidence_threshold\": 0.01, \"print_time\": True, \"crop\": False}\n",
    "stitcher1 = Stitcher(**settings1)\n",
    "panorama0 = stitcher.stitch([cv.imread(\"image1.jpg\"), cv.imread(\"image2.jpg\")])\n",
    "panorama1 = stitcher.stitch([cv.imread(\"image3.jpg\"), cv.imread(\"image4.jpg\")])\n",
    "panorama = stitcher1.stitch([panorama0, panorama1])\n",
    "# cv.imwrite(\"panorama.jpg\", panorama)  # save panorama"
   ]
  },
  {
   "cell_type": "code",
   "execution_count": null,
   "metadata": {},
   "outputs": [],
   "source": []
  },
  {
   "cell_type": "code",
   "execution_count": null,
   "metadata": {},
   "outputs": [],
   "source": []
  },
  {
   "cell_type": "code",
   "execution_count": null,
   "metadata": {},
   "outputs": [],
   "source": []
  },
  {
   "cell_type": "code",
   "execution_count": 7,
   "metadata": {},
   "outputs": [
    {
     "name": "stdout",
     "output_type": "stream",
     "text": [
      "Total stitching time with 16 processes: 1.0924 seconds\n",
      "fps : 14.647 \n"
     ]
    }
   ],
   "source": [
    "\n",
    "\n",
    "import cv2 as cv\n",
    "from multiprocessing import Pool, cpu_count\n",
    "from time import time\n",
    "from stitching import Stitcher\n",
    "\n",
    "# 封装图像拼接函数\n",
    "def stitch_images(image_paths, settings, settings1):\n",
    "    # 使用 settings 进行初步拼接\n",
    "    stitcher = Stitcher(**settings)\n",
    "    panoramas = []\n",
    "    for i in range(0, len(image_paths), 2):\n",
    "        images = [cv.imread(image_paths[i]), cv.imread(image_paths[i + 1])]\n",
    "        panorama = stitcher.stitch(images)\n",
    "        panoramas.append(panorama)\n",
    "    \n",
    "    # 使用 settings1 进行最终拼接\n",
    "    stitcher1 = Stitcher(**settings1)\n",
    "    final_panorama = stitcher1.stitch(panoramas)\n",
    "    return final_panorama\n",
    "\n",
    "# 多进程处理函数\n",
    "def multiprocess_stitch(image_path_groups, settings, settings1, num_processes):\n",
    "    with Pool(num_processes) as pool:\n",
    "        panoramas = pool.starmap(stitch_images, [(group, settings, settings1) for group in image_path_groups])\n",
    "    return panoramas\n",
    "\n",
    "if __name__ == \"__main__\":\n",
    "    # 定义图像路径组（在测试中，可以使用同样的源进行多次拼接）\n",
    "    image_path_groups = [\n",
    "        [\"image1.jpg\", \"image2.jpg\", \"image3.jpg\", \"image4.jpg\"] for _ in range(8)\n",
    "    ]\n",
    "\n",
    "    # 设置参数\n",
    "    settings = {\"detector\": \"orb\", \"range_width\": 200, \"confidence_threshold\": 0.01, \"print_time\": False, \"crop\": False}\n",
    "    settings1 = {\"detector\": \"sift\", \"range_width\": 900, \"confidence_threshold\": 0.01, \"print_time\": False, \"crop\": False}\n",
    "\n",
    "    # 测试性能\n",
    "    num_processes = max(8, cpu_count())  # 使用最多8个进程\n",
    "\n",
    "    start_time = time()\n",
    "    panoramas = multiprocess_stitch(image_path_groups, settings, settings1, num_processes)\n",
    "    \n",
    "    # 保存最终拼接图像\n",
    "    for idx, panorama in enumerate(panoramas):\n",
    "        cv.imwrite(f\"panorama_{idx}.jpg\", panorama)\n",
    "    \n",
    "    end_time = time()\n",
    "\n",
    "    print(f\"Total stitching time with {num_processes} processes: {end_time - start_time:.4f} seconds\")\n",
    "    print(f\"fps : {num_processes/ (end_time-start_time):.3f} \")\n"
   ]
  },
  {
   "cell_type": "code",
   "execution_count": null,
   "metadata": {},
   "outputs": [],
   "source": []
  }
 ],
 "metadata": {
  "kernelspec": {
   "display_name": "ziyiv1",
   "language": "python",
   "name": "python3"
  },
  "language_info": {
   "codemirror_mode": {
    "name": "ipython",
    "version": 3
   },
   "file_extension": ".py",
   "mimetype": "text/x-python",
   "name": "python",
   "nbconvert_exporter": "python",
   "pygments_lexer": "ipython3",
   "version": "3.8.19"
  }
 },
 "nbformat": 4,
 "nbformat_minor": 2
}

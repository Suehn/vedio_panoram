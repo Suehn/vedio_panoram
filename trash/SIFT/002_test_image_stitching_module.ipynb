{
 "cells": [
  {
   "cell_type": "code",
   "execution_count": 5,
   "metadata": {},
   "outputs": [
    {
     "name": "stdout",
     "output_type": "stream",
     "text": [
      "Keypoint detection and descriptor computation took 96 ms.\n",
      "Matching descriptors took 0 ms.\n",
      "Homography computation took 1 ms.\n",
      "First image blending took 174 ms.\n",
      "Second image blending took 86 ms.\n",
      "Total blending process took 308 ms.\n",
      "Panorama image has been created.\n",
      "\n"
     ]
    }
   ],
   "source": [
    "\n",
    "import subprocess\n",
    "import cv2\n",
    "\n",
    "def stitch_images(image1_path, image2_path, output_image_path):\n",
    "    # 调用C++程序进行图像拼接\n",
    "    result = subprocess.run(['./image_stitching', image1_path, image2_path, output_image_path], capture_output=True, text=True)\n",
    "    if result.returncode != 0:\n",
    "        print(f\"Error: {result.stderr}\")\n",
    "        return None\n",
    "    print(result.stdout)\n",
    "    \n",
    "    # 读取拼接后的图像\n",
    "    stitched_image = cv2.imread(output_image_path)\n",
    "    return stitched_image\n",
    "\n",
    "# 示例使用\n",
    "image1_path = \"../data/test01.jpg\"\n",
    "image2_path = \"../data/test02.jpg\"\n",
    "output_image_path = \"panorama.jpg\"\n",
    "\n",
    "stitched_image = stitch_images(image1_path, image2_path, output_image_path)\n",
    "if stitched_image is not None:\n",
    "    cv2.imwrite('panorama1.jpg', stitched_image)"
   ]
  },
  {
   "cell_type": "code",
   "execution_count": 35,
   "metadata": {},
   "outputs": [
    {
     "name": "stdout",
     "output_type": "stream",
     "text": [
      "Image stitching completed successfully.\n",
      "Keypoint detection and descriptor computation took 110 ms.\n",
      "Matching descriptors took 0 ms.\n",
      "Homography computation took 2 ms.\n",
      "Keypoint detection and descriptor computation took 121 ms.\n",
      "Matching descriptors took 0 ms.\n",
      "Homography computation took 2 ms.\n",
      "First image blending took 223 ms.\n",
      "First image blending took 245 ms.\n",
      "Second image blending took 122 ms.\n",
      "Second image blending took 144 ms.\n",
      "Total blending process took 428 ms.\n",
      "Total blending process took 458 ms.\n",
      "Panorama image panorama.jpg has been created.\n",
      "Panorama image panorama.jpg has been created.\n",
      "\n"
     ]
    }
   ],
   "source": [
    "\n",
    "\n",
    "import subprocess\n",
    "\n",
    "def run_image_stitching(img1_1, img1_2, output1, img2_1, img2_2, output2):\n",
    "    # 调用编译好的C++程序\n",
    "    result = subprocess.run(['./image_stitching', img1_1, img1_2, output1, img2_1, img2_2, output2],\n",
    "                            stdout=subprocess.PIPE, stderr=subprocess.PIPE)\n",
    "    if result.returncode == 0:\n",
    "        print(\"Image stitching completed successfully.\")\n",
    "        print(result.stdout.decode('utf-8'))\n",
    "    else:\n",
    "        print(\"Image stitching failed.\")\n",
    "        print(result.stderr.decode('utf-8'))\n",
    "\n",
    "if __name__ == '__main__':\n",
    "    # 指定图像路径\n",
    "    image1_path = \"../data/test01.jpg\"\n",
    "    image2_path = \"../data/test02.jpg\"\n",
    "    output_image_path = \"panorama.jpg\"\n",
    "\n",
    "    # 运行图像拼接\n",
    "    run_image_stitching(image1_path, image2_path, output_image_path, image1_path, image2_path, output_image_path)\n"
   ]
  },
  {
   "cell_type": "code",
   "execution_count": 9,
   "metadata": {},
   "outputs": [
    {
     "name": "stdout",
     "output_type": "stream",
     "text": [
      "Image stitching completed successfully.\n",
      "Keypoint detection and descriptor computation took 10 ms.\n",
      "Keypoint detection and descriptor computation took 10 ms.\n",
      "Keypoint detection and descriptor computation took 10 ms.\n",
      "Matching descriptors took 0 ms.\n",
      "Keypoint detection and descriptor computation took 11 ms.\n",
      "Matching descriptors took 0 ms.\n",
      "Matching descriptors took 3 ms.\n",
      "Homography computation took 2 ms.\n",
      "Matching descriptors took 3 ms.\n",
      "Homography computation took 2 ms.\n",
      "Homography computation took 2 ms.\n",
      "Homography computation took 2 ms.\n",
      "First image blending took 17 ms.\n",
      "First image blending took 19 ms.\n",
      "First image blending took 24 ms.\n",
      "First image blending took 24 ms.\n",
      "Second image blending took 9 ms.\n",
      "Second image blending took 8 ms.\n",
      "Total blending process took 30 ms.\n",
      "Total blending process took 31 ms.\n",
      "Second image blending took 7 ms.\n",
      "Panorama image panorama_4.jpg has been created.\n",
      "Panorama image panorama_1.jpg has been created.\n",
      "Total blending process took 34 ms.\n",
      "Second image blending took 11 ms.\n",
      "Panorama image panorama_3.jpg has been created.\n",
      "Total blending process took 37 ms.\n",
      "Panorama image panorama_2.jpg has been created.\n",
      "\n",
      "Total time taken: 0.2055666446685791 seconds\n"
     ]
    }
   ],
   "source": [
    "\n",
    "\n",
    "\n",
    "import subprocess\n",
    "import time\n",
    "\n",
    "def run_image_stitching(image_pairs):\n",
    "    args = ['./image_stitching']\n",
    "    for pair in image_pairs:\n",
    "        args.extend(pair)\n",
    "    \n",
    "    start_time = time.time()\n",
    "    result = subprocess.run(args, stdout=subprocess.PIPE, stderr=subprocess.PIPE)\n",
    "    end_time = time.time()\n",
    "    \n",
    "    if result.returncode == 0:\n",
    "        print(\"Image stitching completed successfully.\")\n",
    "        print(result.stdout.decode('utf-8'))\n",
    "    else:\n",
    "        print(\"Image stitching failed.\")\n",
    "        print(result.stderr.decode('utf-8'))\n",
    "    \n",
    "    print(f\"Total time taken: {end_time - start_time} seconds\")\n",
    "\n",
    "if __name__ == '__main__':\n",
    "    image1_path = \"../data/video3_frame2.jpg\"\n",
    "    image2_path = \"../data/video4_frame2.jpg\"\n",
    "    output_image_path_base = \"panorama\"\n",
    "\n",
    "    image_pairs = []\n",
    "    for i in range(1, 17):\n",
    "        output_image_path = f\"{output_image_path_base}_{i}.jpg\"\n",
    "        image_pairs.append((image1_path, image2_path, output_image_path))\n",
    "    \n",
    "    run_image_stitching(image_pairs)\n",
    "\n"
   ]
  },
  {
   "cell_type": "code",
   "execution_count": 52,
   "metadata": {},
   "outputs": [
    {
     "name": "stdout",
     "output_type": "stream",
     "text": [
      "Saved resized image to: ../data/test01_half.jpg\n",
      "Saved resized image to: ../data/test02_half.jpg\n",
      "Saved resized image to: ../data/test01_third.jpg\n",
      "Saved resized image to: ../data/test02_third.jpg\n"
     ]
    }
   ],
   "source": [
    "\n",
    "import cv2\n",
    "\n",
    "def resize_image(image_path, scale_factor, output_path):\n",
    "    image = cv2.imread(image_path)\n",
    "    if image is None:\n",
    "        print(f\"Could not open or find the image: {image_path}\")\n",
    "        return\n",
    "    \n",
    "    width = int(image.shape[1] * scale_factor)\n",
    "    height = int(image.shape[0] * scale_factor)\n",
    "    resized_image = cv2.resize(image, (width, height), interpolation=cv2.INTER_AREA)\n",
    "    \n",
    "    cv2.imwrite(output_path, resized_image)\n",
    "    print(f\"Saved resized image to: {output_path}\")\n",
    "\n",
    "if __name__ == '__main__':\n",
    "    image1_path = \"../data/test01.jpg\"\n",
    "    image2_path = \"../data/test02.jpg\"\n",
    "\n",
    "    # Create 1/2 resolution versions\n",
    "    resize_image(image1_path, 0.5, \"../data/test01_half.jpg\")\n",
    "    resize_image(image2_path, 0.5, \"../data/test02_half.jpg\")\n",
    "\n",
    "    # Create 1/3 resolution versions\n",
    "    resize_image(image1_path, 0.25, \"../data/test01_third.jpg\")\n",
    "    resize_image(image2_path, 0.25, \"../data/test02_third.jpg\")"
   ]
  },
  {
   "cell_type": "code",
   "execution_count": null,
   "metadata": {},
   "outputs": [],
   "source": []
  }
 ],
 "metadata": {
  "kernelspec": {
   "display_name": "ziyiv1",
   "language": "python",
   "name": "python3"
  },
  "language_info": {
   "codemirror_mode": {
    "name": "ipython",
    "version": 3
   },
   "file_extension": ".py",
   "mimetype": "text/x-python",
   "name": "python",
   "nbconvert_exporter": "python",
   "pygments_lexer": "ipython3",
   "version": "3.8.19"
  }
 },
 "nbformat": 4,
 "nbformat_minor": 2
}

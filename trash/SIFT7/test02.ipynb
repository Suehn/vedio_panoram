{
 "cells": [
  {
   "cell_type": "code",
   "execution_count": 1,
   "metadata": {},
   "outputs": [
    {
     "ename": "error",
     "evalue": "OpenCV(4.10.0) /io/opencv/modules/imgcodecs/src/loadsave.cpp:708: error: (-2:Unspecified error) could not find a writer for the specified extension in function 'imwrite_'\n",
     "output_type": "error",
     "traceback": [
      "\u001b[0;31m---------------------------------------------------------------------------\u001b[0m",
      "\u001b[0;31merror\u001b[0m                                     Traceback (most recent call last)",
      "Cell \u001b[0;32mIn[1], line 69\u001b[0m\n\u001b[1;32m     67\u001b[0m \u001b[38;5;28;01mif\u001b[39;00m \u001b[38;5;18m__name__\u001b[39m \u001b[38;5;241m==\u001b[39m \u001b[38;5;124m\"\u001b[39m\u001b[38;5;124m__main__\u001b[39m\u001b[38;5;124m\"\u001b[39m:\n\u001b[1;32m     68\u001b[0m     video_paths \u001b[38;5;241m=\u001b[39m [\u001b[38;5;124m\"\u001b[39m\u001b[38;5;124m../data/testolabc1.avi\u001b[39m\u001b[38;5;124m\"\u001b[39m, \u001b[38;5;124m\"\u001b[39m\u001b[38;5;124m../data/testolabc2.avi\u001b[39m\u001b[38;5;124m\"\u001b[39m]\n\u001b[0;32m---> 69\u001b[0m     \u001b[43mmain\u001b[49m\u001b[43m(\u001b[49m\u001b[43mvideo_paths\u001b[49m\u001b[43m)\u001b[49m\n",
      "Cell \u001b[0;32mIn[1], line 62\u001b[0m, in \u001b[0;36mmain\u001b[0;34m(video_paths)\u001b[0m\n\u001b[1;32m     60\u001b[0m result \u001b[38;5;241m=\u001b[39m image_stitching(frames, H)\n\u001b[1;32m     61\u001b[0m prev_H \u001b[38;5;241m=\u001b[39m H\n\u001b[0;32m---> 62\u001b[0m \u001b[43mcv2\u001b[49m\u001b[38;5;241;43m.\u001b[39;49m\u001b[43mimwrite\u001b[49m\u001b[43m(\u001b[49m\u001b[38;5;124;43m'\u001b[39;49m\u001b[38;5;124;43mStitched Frame\u001b[39;49m\u001b[38;5;124;43m'\u001b[39;49m\u001b[43m,\u001b[49m\u001b[43m \u001b[49m\u001b[43mresult\u001b[49m\u001b[43m)\u001b[49m\n",
      "\u001b[0;31merror\u001b[0m: OpenCV(4.10.0) /io/opencv/modules/imgcodecs/src/loadsave.cpp:708: error: (-2:Unspecified error) could not find a writer for the specified extension in function 'imwrite_'\n"
     ]
    }
   ],
   "source": [
    "\n",
    "import cv2\n",
    "import numpy as np\n",
    "\n",
    "# 帧提取函数\n",
    "def frame_generator(video_paths):\n",
    "    captures = [cv2.VideoCapture(video_path) for video_path in video_paths]\n",
    "    while True:\n",
    "        frames = []\n",
    "        ret_vals = []\n",
    "        for capture in captures:\n",
    "            ret, frame = capture.read()\n",
    "            frames.append(frame)\n",
    "            ret_vals.append(ret)\n",
    "        if all(ret_vals):\n",
    "            yield frames\n",
    "        else:\n",
    "            break\n",
    "    for capture in captures:\n",
    "        capture.release()\n",
    "\n",
    "# 特征检测和匹配函数\n",
    "def feature_detection_and_matching(frame1, frame2):\n",
    "    orb = cv2.ORB_create()\n",
    "    kp1, des1 = orb.detectAndCompute(frame1, None)\n",
    "    kp2, des2 = orb.detectAndCompute(frame2, None)\n",
    "    \n",
    "    bf = cv2.BFMatcher(cv2.NORM_HAMMING, crossCheck=True)\n",
    "    matches = bf.match(des1, des2)\n",
    "    matches = sorted(matches, key=lambda x: x.distance)\n",
    "    \n",
    "    pts1 = np.float32([kp1[m.queryIdx].pt for m in matches]).reshape(-1, 1, 2)\n",
    "    pts2 = np.float32([kp2[m.trainIdx].pt for m in matches]).reshape(-1, 1, 2)\n",
    "    \n",
    "    return pts1, pts2\n",
    "\n",
    "# 计算单应性矩阵函数\n",
    "def calculate_homography(pts1, pts2):\n",
    "    H, _ = cv2.findHomography(pts1, pts2, cv2.RANSAC)\n",
    "    return H\n",
    "\n",
    "# 图像拼接函数\n",
    "def image_stitching(frames, H):\n",
    "    h1, w1 = frames[0].shape[:2]\n",
    "    h2, w2 = frames[1].shape[:2]\n",
    "    \n",
    "    result = cv2.warpPerspective(frames[1], H, (w1 + w2, h1))\n",
    "    result[0:h1, 0:w1] = frames[0]\n",
    "    \n",
    "    return result\n",
    "\n",
    "# 主函数\n",
    "def main(video_paths):\n",
    "    generator = frame_generator(video_paths)\n",
    "    prev_H = np.eye(3)\n",
    "    for frames in generator:\n",
    "        pts1, pts2 = feature_detection_and_matching(frames[0], frames[1])\n",
    "        H = calculate_homography(pts1, pts2)\n",
    "        # 使用动量更新\n",
    "        H = 0.8 * prev_H + 0.2 * H\n",
    "        result = image_stitching(frames, H)\n",
    "        prev_H = H\n",
    "        cv2.imwrite('Stitched Frame', result)\n",
    "        # if cv2.waitKey(1) & 0xFF == ord('q'):\n",
    "            # break\n",
    "    # cv2.destroyAllWindows()\n",
    "\n",
    "if __name__ == \"__main__\":\n",
    "    video_paths = [\"../data/testolabc1.avi\", \"../data/testolabc2.avi\"]\n",
    "    main(video_paths)"
   ]
  }
 ],
 "metadata": {
  "kernelspec": {
   "display_name": "ziyiv1",
   "language": "python",
   "name": "python3"
  },
  "language_info": {
   "codemirror_mode": {
    "name": "ipython",
    "version": 3
   },
   "file_extension": ".py",
   "mimetype": "text/x-python",
   "name": "python",
   "nbconvert_exporter": "python",
   "pygments_lexer": "ipython3",
   "version": "3.8.19"
  }
 },
 "nbformat": 4,
 "nbformat_minor": 2
}

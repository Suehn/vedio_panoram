{
 "cells": [
  {
   "cell_type": "code",
   "execution_count": 12,
   "metadata": {},
   "outputs": [
    {
     "name": "stdout",
     "output_type": "stream",
     "text": [
      "Saved frame 0 to ../data/video1_frame0.jpg\n",
      "Saved frame 1 to ../data/video1_frame1.jpg\n",
      "Saved frame 2 to ../data/video1_frame2.jpg\n",
      "Saved frame 3 to ../data/video1_frame3.jpg\n",
      "Extracted 4 frames from /home/ziyi/Documents/Onedrive_local/003_学习研究/003_01_研究生阶段学习/[数字图像处理]/vedio_panoram/data/testolabc1.avi\n",
      "Saved frame 0 to ../data/video2_frame0.jpg\n",
      "Saved frame 1 to ../data/video2_frame1.jpg\n",
      "Saved frame 2 to ../data/video2_frame2.jpg\n",
      "Saved frame 3 to ../data/video2_frame3.jpg\n",
      "Extracted 4 frames from /home/ziyi/Documents/Onedrive_local/003_学习研究/003_01_研究生阶段学习/[数字图像处理]/vedio_panoram/data/testolabc2.avi\n",
      "Saved frame 0 to ../data/video3_frame0.jpg\n",
      "Saved frame 1 to ../data/video3_frame1.jpg\n",
      "Saved frame 2 to ../data/video3_frame2.jpg\n",
      "Saved frame 3 to ../data/video3_frame3.jpg\n",
      "Extracted 4 frames from /home/ziyi/Documents/Onedrive_local/003_学习研究/003_01_研究生阶段学习/[数字图像处理]/vedio_panoram/data/testolabc3.avi\n",
      "Saved frame 0 to ../data/video4_frame0.jpg\n",
      "Saved frame 1 to ../data/video4_frame1.jpg\n",
      "Saved frame 2 to ../data/video4_frame2.jpg\n",
      "Saved frame 3 to ../data/video4_frame3.jpg\n",
      "Extracted 4 frames from /home/ziyi/Documents/Onedrive_local/003_学习研究/003_01_研究生阶段学习/[数字图像处理]/vedio_panoram/data/testolabc4.avi\n"
     ]
    }
   ],
   "source": [
    "\n",
    "\n",
    "import cv2\n",
    "import os\n",
    "\n",
    "def extract_frames(video_path, output_folder, prefix, frames_needed):\n",
    "    if not os.path.exists(output_folder):\n",
    "        os.makedirs(output_folder)\n",
    "    \n",
    "    cap = cv2.VideoCapture(video_path)\n",
    "    if not cap.isOpened():\n",
    "        print(f\"Error: Could not open video file {video_path}\")\n",
    "        return\n",
    "\n",
    "    frame_count = 0\n",
    "    extracted_count = 0\n",
    "    while cap.isOpened() and extracted_count < frames_needed:\n",
    "        ret, frame = cap.read()\n",
    "        if not ret:\n",
    "            print(f\"Error: Could not read frame {frame_count} from video file {video_path}\")\n",
    "            break\n",
    "\n",
    "        output_path = os.path.join(output_folder, f\"{prefix}_frame{extracted_count}.jpg\")\n",
    "        cv2.imwrite(output_path, frame)\n",
    "        print(f\"Saved frame {extracted_count} to {output_path}\")\n",
    "        extracted_count += 1\n",
    "        frame_count += 1\n",
    "    \n",
    "    cap.release()\n",
    "    print(f\"Extracted {extracted_count} frames from {video_path}\")\n",
    "\n",
    "if __name__ == '__main__':\n",
    "    videos = [\n",
    "        \"/home/ziyi/Documents/Onedrive_local/003_学习研究/003_01_研究生阶段学习/[数字图像处理]/vedio_panoram/data/testolabc1.avi\",\n",
    "        \"/home/ziyi/Documents/Onedrive_local/003_学习研究/003_01_研究生阶段学习/[数字图像处理]/vedio_panoram/data/testolabc2.avi\",\n",
    "        \"/home/ziyi/Documents/Onedrive_local/003_学习研究/003_01_研究生阶段学习/[数字图像处理]/vedio_panoram/data/testolabc3.avi\",\n",
    "        \"/home/ziyi/Documents/Onedrive_local/003_学习研究/003_01_研究生阶段学习/[数字图像处理]/vedio_panoram/data/testolabc4.avi\"\n",
    "    ]\n",
    "    output_folder = \"../data\"\n",
    "\n",
    "    frames_needed = 4  # 每个视频提取4帧\n",
    "    for i, video in enumerate(videos):\n",
    "        extract_frames(video, output_folder, f\"video{i+1}\", frames_needed)\n"
   ]
  },
  {
   "cell_type": "code",
   "execution_count": null,
   "metadata": {},
   "outputs": [],
   "source": []
  }
 ],
 "metadata": {
  "kernelspec": {
   "display_name": "ziyiv1",
   "language": "python",
   "name": "python3"
  },
  "language_info": {
   "codemirror_mode": {
    "name": "ipython",
    "version": 3
   },
   "file_extension": ".py",
   "mimetype": "text/x-python",
   "name": "python",
   "nbconvert_exporter": "python",
   "pygments_lexer": "ipython3",
   "version": "3.8.19"
  }
 },
 "nbformat": 4,
 "nbformat_minor": 2
}

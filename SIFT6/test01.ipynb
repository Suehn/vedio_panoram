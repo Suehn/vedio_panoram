{
 "cells": [
  {
   "cell_type": "code",
   "execution_count": 1,
   "metadata": {},
   "outputs": [],
   "source": [
    "from stitching import Stitcher\n",
    "import cv2 as cv"
   ]
  },
  {
   "cell_type": "code",
   "execution_count": 2,
   "metadata": {},
   "outputs": [],
   "source": [
    "\n",
    "settings = {\"detector\": \"sift\", \"confidence_threshold\": 0.2}\n",
    "stitcher = Stitcher(**settings)"
   ]
  },
  {
   "cell_type": "code",
   "execution_count": 11,
   "metadata": {},
   "outputs": [
    {
     "name": "stdout",
     "output_type": "stream",
     "text": [
      "[[1. 0. 0.]\n",
      " [0. 1. 0.]\n",
      " [0. 0. 1.]]\n",
      "[[ 0.86765337 -0.00682656  0.43654323]\n",
      " [-0.06863172  0.8599776  -0.00945965]\n",
      " [-0.08025091 -0.19503792  0.9539153 ]]\n"
     ]
    },
    {
     "data": {
      "text/plain": [
       "True"
      ]
     },
     "execution_count": 11,
     "metadata": {},
     "output_type": "execute_result"
    }
   ],
   "source": [
    "panorama = stitcher.stitch([cv.imread(\"image1.jpg\"), cv.imread(\"image2.jpg\")])\n",
    "cv.imwrite(\"panorama.jpg\", panorama)  # save panorama"
   ]
  }
 ],
 "metadata": {
  "kernelspec": {
   "display_name": "ziyiv1",
   "language": "python",
   "name": "python3"
  },
  "language_info": {
   "codemirror_mode": {
    "name": "ipython",
    "version": 3
   },
   "file_extension": ".py",
   "mimetype": "text/x-python",
   "name": "python",
   "nbconvert_exporter": "python",
   "pygments_lexer": "ipython3",
   "version": "3.8.19"
  }
 },
 "nbformat": 4,
 "nbformat_minor": 2
}
